{
 "cells": [
  {
   "cell_type": "markdown",
   "metadata": {},
   "source": [
    "# Final Model Analysis"
   ]
  },
  {
   "cell_type": "markdown",
   "metadata": {},
   "source": [
    "Finally, it is time to analyze our final model. We will greate a prediction function, examine our coefficients, and draw conclusions."
   ]
  },
  {
   "cell_type": "code",
   "execution_count": 1,
   "metadata": {},
   "outputs": [],
   "source": [
    "import pandas as pd\n",
    "import numpy as np"
   ]
  },
  {
   "cell_type": "code",
   "execution_count": 2,
   "metadata": {},
   "outputs": [],
   "source": [
    "df = pd.read_csv('../data/final_model.csv', header = None, names = ['names', 'coefficients']).set_index('names')\n",
    "coef = df['coefficients'].to_dict()"
   ]
  },
  {
   "cell_type": "markdown",
   "metadata": {},
   "source": [
    "## Prediction Function"
   ]
  },
  {
   "cell_type": "markdown",
   "metadata": {},
   "source": [
    "To create our prediction function, we will start off with the data in the format it is in the dataset we were originally given, king_house_data.csv. Since we are using it with our coefficients dictionary, we don't actually need to remove the extra data: we can just only use data that is in both dictionaries. We do, however, need to turn all possible data into numeric data types, log transform the necessary data, and inverse log transform (np.exp) the price at the end. Some data will need to be kept as a  string in order to create dummy variables from it. Finally, we replace all nan values and turn the data into a dictionary. We can check this on a single row, but we also read in the first 5 lines from king_house_data.csv and try those."
   ]
  },
  {
   "cell_type": "code",
   "execution_count": 3,
   "metadata": {},
   "outputs": [],
   "source": [
    "def predict(data):\n",
    "    data = data.split(',')\n",
    "    columns = 'id,date,price,bedrooms,bathrooms,sqft_living,sqft_lot,floors,waterfront,view,condition,grade,sqft_above,sqft_basement,yr_built,yr_renovated,zipcode,lat,long,sqft_living15,sqft_lot15'.split(',')\n",
    "    df = pd.DataFrame(dict(zip(columns, data)), index=[0])\n",
    "    df['yr_sold'] = df.date.map(lambda x: int(x.split('/')[-1]))\n",
    "    df.drop('date', axis=1, inplace=True)\n",
    "    for col in df.columns:\n",
    "        df[col] = pd.to_numeric(df[col])\n",
    "    df['yr_since_renovation'] = np.where(df['yr_renovated']==0.0, df['yr_sold']-df['yr_built'], df['yr_sold']-df['yr_renovated'])\n",
    "    df['yr_since_built'] = df['yr_sold'] - df['yr_built']\n",
    "    categoricals = ['floors', 'condition', 'grade', 'zipcode']\n",
    "    df = df.astype({col: 'str' for col in categoricals})\n",
    "    df = pd.get_dummies(df)\n",
    "    df['renovated'] = df.yr_renovated.map(lambda x: 1 if x>0 else 0)\n",
    "    continuous = ['price', 'bedrooms', 'bathrooms', 'sqft_living', 'sqft_lot']\n",
    "    for col in continuous:\n",
    "        df[col] = df[col].map(np.log)\n",
    "    df.replace(np.nan, 0, inplace=True)\n",
    "    data_dict = df.iloc[0].to_dict()\n",
    "\n",
    "    prediction = coef['Intercept']\n",
    "    for key, value in coef.items():\n",
    "        prediction += value * data_dict.get(key, 0)\n",
    "    prediction = np.exp(prediction)\n",
    "    return round(prediction, 2)"
   ]
  },
  {
   "cell_type": "code",
   "execution_count": 4,
   "metadata": {},
   "outputs": [
    {
     "data": {
      "text/plain": [
       "239005.82"
      ]
     },
     "execution_count": 4,
     "metadata": {},
     "output_type": "execute_result"
    }
   ],
   "source": [
    "data = '7129300520,10/13/2014,221900.0,3,1.0,1180,5650,1.0,,0.0,3,7,1180,0.0,1955,0.0,98178,47.5112,-122.257,1340,5650'\n",
    "predict(data)\n",
    "# real price value: 221900.0"
   ]
  },
  {
   "cell_type": "code",
   "execution_count": 5,
   "metadata": {},
   "outputs": [
    {
     "name": "stdout",
     "output_type": "stream",
     "text": [
      "239005.82\n",
      "576006.35\n",
      "239994.68\n",
      "556154.46\n",
      "471701.59\n"
     ]
    }
   ],
   "source": [
    "# todo: import data from kc_house_data.csv and run the prediction function\n",
    "with open('data/kc_house_data.csv') as f:\n",
    "    f.readline()\n",
    "    for i in range(5):\n",
    "        print(predict(f.readline()))\n",
    "# the real price values are: 221900.0, 538000.0, 180000.0, 604000.0, and 510000.0"
   ]
  },
  {
   "cell_type": "markdown",
   "metadata": {},
   "source": [
    "# Coefficient Analysis"
   ]
  },
  {
   "cell_type": "code",
   "execution_count": 6,
   "metadata": {
    "scrolled": true
   },
   "outputs": [
    {
     "data": {
      "text/plain": [
       "{'Intercept': -86.96327587506237,\n",
       " 'bedrooms': -0.05790908383811544,\n",
       " 'bathrooms': 0.062164516758676736,\n",
       " 'sqft_living': 0.4837753401719039,\n",
       " 'sqft_lot': 0.06663803910671842,\n",
       " 'waterfront': 0.6027962254517414,\n",
       " 'sqft_basement': -5.32076652954763e-05,\n",
       " 'lat': 0.6472578402367359,\n",
       " 'long': -0.5282742969088292,\n",
       " 'yr_since_built': 0.00040867761814662815,\n",
       " 'renovated': 0.06219396721553915,\n",
       " 'floors_15': 0.015254015266802584,\n",
       " 'floors_30': -0.0635517536782565,\n",
       " 'condition_2': 0.18927766124862488,\n",
       " 'condition_3': 0.3134553949417471,\n",
       " 'condition_4': 0.3483349587318392,\n",
       " 'condition_5': 0.3986555695222103,\n",
       " 'grade_11': 0.13444823043057247,\n",
       " 'grade_12': 0.17757036224366418,\n",
       " 'grade_13': -1.1304037945325856e-14,\n",
       " 'grade_4': -0.4158651581648968,\n",
       " 'grade_5': -0.4607047689919184,\n",
       " 'grade_6': -0.4109358560514862,\n",
       " 'grade_7': -0.3326081907930973,\n",
       " 'grade_8': -0.22083610555204264,\n",
       " 'grade_9': -0.08208493742248679,\n",
       " 'zipcode_98004': 0.9511542887595263,\n",
       " 'zipcode_98005': 0.5854414838201202,\n",
       " 'zipcode_98006': 0.5713795366348183,\n",
       " 'zipcode_98007': 0.5175915814142216,\n",
       " 'zipcode_98008': 0.5419006247724679,\n",
       " 'zipcode_98010': 0.3594565120749524,\n",
       " 'zipcode_98011': 0.19526381590774175,\n",
       " 'zipcode_98014': 0.24226397123933405,\n",
       " 'zipcode_98019': 0.19726205602651106,\n",
       " 'zipcode_98022': 0.2616528326352681,\n",
       " 'zipcode_98023': -0.07906847287182528,\n",
       " 'zipcode_98024': 0.4223528747861489,\n",
       " 'zipcode_98027': 0.4926034585855134,\n",
       " 'zipcode_98028': 0.15535529470533493,\n",
       " 'zipcode_98029': 0.5803099537906908,\n",
       " 'zipcode_98030': 0.054919477209169065,\n",
       " 'zipcode_98031': 0.04857592394584148,\n",
       " 'zipcode_98032': -0.08726365336640457,\n",
       " 'zipcode_98033': 0.5871485302705102,\n",
       " 'zipcode_98034': 0.3100315239506666,\n",
       " 'zipcode_98038': 0.2453130001721801,\n",
       " 'zipcode_98039': 1.0645794825040875,\n",
       " 'zipcode_98040': 0.7649137297525034,\n",
       " 'zipcode_98042': 0.10645562807541456,\n",
       " 'zipcode_98045': 0.4609534644746893,\n",
       " 'zipcode_98052': 0.4726969947544375,\n",
       " 'zipcode_98053': 0.4678151431328138,\n",
       " 'zipcode_98055': 0.09379306749813432,\n",
       " 'zipcode_98056': 0.2418380098811692,\n",
       " 'zipcode_98058': 0.12791229800898007,\n",
       " 'zipcode_98059': 0.2913105155271652,\n",
       " 'zipcode_98065': 0.5158473458499658,\n",
       " 'zipcode_98070': 0.113194729784293,\n",
       " 'zipcode_98072': 0.2511011071954312,\n",
       " 'zipcode_98074': 0.4579286894524926,\n",
       " 'zipcode_98075': 0.5317091790165245,\n",
       " 'zipcode_98077': 0.2341745904048391,\n",
       " 'zipcode_98092': 0.07450399281065034,\n",
       " 'zipcode_98102': 0.7774629179149357,\n",
       " 'zipcode_98103': 0.5877037748414051,\n",
       " 'zipcode_98105': 0.7165139224110169,\n",
       " 'zipcode_98106': 0.16573513483159874,\n",
       " 'zipcode_98107': 0.6035291963965737,\n",
       " 'zipcode_98108': 0.2076505948206242,\n",
       " 'zipcode_98109': 0.7621042167785219,\n",
       " 'zipcode_98112': 0.8116665379113023,\n",
       " 'zipcode_98115': 0.5836533488401191,\n",
       " 'zipcode_98116': 0.5791036185595513,\n",
       " 'zipcode_98117': 0.5274536570800495,\n",
       " 'zipcode_98118': 0.3476003131428338,\n",
       " 'zipcode_98119': 0.7399011333364434,\n",
       " 'zipcode_98122': 0.6258498022398998,\n",
       " 'zipcode_98125': 0.2963826629114061,\n",
       " 'zipcode_98126': 0.3750564654745959,\n",
       " 'zipcode_98133': 0.15856746126281096,\n",
       " 'zipcode_98136': 0.5161968974486606,\n",
       " 'zipcode_98144': 0.5162996599031967,\n",
       " 'zipcode_98146': 0.12325430368013313,\n",
       " 'zipcode_98155': 0.11922803202960774,\n",
       " 'zipcode_98166': 0.19967347876749952,\n",
       " 'zipcode_98168': -0.07346651755744903,\n",
       " 'zipcode_98177': 0.27900234213633945,\n",
       " 'zipcode_98178': 0.07136521345852358,\n",
       " 'zipcode_98199': 0.5975716773576639}"
      ]
     },
     "execution_count": 6,
     "metadata": {},
     "output_type": "execute_result"
    }
   ],
   "source": [
    "coef"
   ]
  },
  {
   "cell_type": "markdown",
   "metadata": {},
   "source": [
    "bedrooms: -0.057155141850407175\n",
    "- each bedroom decreases the sale price of a house by 5%\n",
    "\n",
    "bathrooms: 0.062049951410309764\n",
    "- each bathroom increases the sale price of a house by 6%\n",
    "\n",
    "sqft_living: 0.4834287268804242\n",
    "- a 1% change in square footage living area increases the sale price of a house by .48%\n",
    "\n",
    "sqft_lot: 0.06665523673039399\n",
    "- a 1% change in square footage lot area increases the sale price of a house by .07%\n",
    "\n",
    "waterfront: 0.6029579655205117\n",
    "- if the house is on the waterfront, the sale price of a house increases by 60%\n",
    "\n",
    "sqft_basement: -5.318890782739171e-05\n",
    "- a 1% change in square footage basement area decreases the sale price of a house by .00005%\n",
    "\n",
    "lat: 0.647575198704021\n",
    "- if you move north, a 1 degree increase in latitude increases the sale price of a house by 65%\n",
    "\n",
    "long: -0.5281545373156602\n",
    "- if you move east, a 1 degree increase in longitude decreases the sale price of a house by 53%\n",
    "\n",
    "yr_since_built: 0.0004074831112883181\n",
    "- a 1-year increase in the age of a house increases its sale price by .04%\n",
    "\n",
    "renovated: 0.062242978234706765\n",
    "- a house that has been renovated has its sale price increased by 6%\n",
    "\n",
    "floors_15: 0.015254015266802584 and floors_30: -0.0635517536782565\n",
    "- using a one-floor house as a baseline, a 1.5-floor house has its price increased by 1.5%, while a 3-floor house has its price decreased by 6.4%. Other numbers of floors are approximately equal in price to a 1-floor house.\n",
    "\n",
    "condition_2: 0.18927766124862488, condition_3: 0.3134553949417471, condition_4: 0.3483349587318392, and condition_5: 0.3986555695222103\n",
    "- using a condition of 1 as a baseline, a condition of 2 increases the price by 19%, a condition of 3 increases the price of a house by 31%, a condition of 4 increases the price by 35%, and a condition of 5 increases the price by 40%\n",
    "\n",
    "Using zipcode 98001 as a baseline, the listed zipcodes increase or decrease the price of a house by 100 times the number listed as a percentage. The unlisted zipcodes are all approximately the same in price. (I'm not planning on listing them all out.)"
   ]
  },
  {
   "cell_type": "markdown",
   "metadata": {},
   "source": [
    "# Recommendations and Future Work"
   ]
  },
  {
   "cell_type": "markdown",
   "metadata": {},
   "source": [
    "We attempted to add interation features to our model, but our results indicated that they only decreased the accuracy of our model. With more time, we could take a deeoer look at these and find out why that is the case, and see if other interactions could help our model.\n",
    "\n",
    "Similarly, adding polynomial features could make our predictions more accurate. Trial-and-error would be needed to determine which features could be changed in this way to improve our model.\n",
    "\n",
    "Using a mapping library could turn the longitude and latitude into more directly beneficial information, like distance to a school or grocery store. With more time, we could create new features using this information to add to our model."
   ]
  },
  {
   "cell_type": "markdown",
   "metadata": {},
   "source": [
    "# Conclusions"
   ]
  },
  {
   "cell_type": "markdown",
   "metadata": {},
   "source": [
    "Our final model will be useful in predicting sale prices of houses in King county. We can use these predictions to help our clients set the prices for their houses, and find houses that are currently underpriced."
   ]
  }
 ],
 "metadata": {
  "kernelspec": {
   "display_name": "learn-env",
   "language": "python",
   "name": "learn-env"
  },
  "language_info": {
   "codemirror_mode": {
    "name": "ipython",
    "version": 3
   },
   "file_extension": ".py",
   "mimetype": "text/x-python",
   "name": "python",
   "nbconvert_exporter": "python",
   "pygments_lexer": "ipython3",
   "version": "3.6.9"
  }
 },
 "nbformat": 4,
 "nbformat_minor": 4
}
