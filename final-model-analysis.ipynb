{
 "cells": [
  {
   "cell_type": "markdown",
   "metadata": {},
   "source": [
    "# Final Model Analysis"
   ]
  },
  {
   "cell_type": "code",
   "execution_count": 1,
   "metadata": {},
   "outputs": [],
   "source": [
    "import pandas as pd\n",
    "import numpy as np"
   ]
  },
  {
   "cell_type": "code",
   "execution_count": 2,
   "metadata": {},
   "outputs": [],
   "source": [
    "df = pd.read_csv('data/final_model.csv', header = None, names = ['names', 'coefficients']).set_index('names')\n",
    "coef = df['coefficients'].to_dict()"
   ]
  },
  {
   "cell_type": "markdown",
   "metadata": {},
   "source": [
    "## Prediction Function"
   ]
  },
  {
   "cell_type": "code",
   "execution_count": 3,
   "metadata": {},
   "outputs": [],
   "source": [
    "def predict(data):\n",
    "    data = data.split(',')\n",
    "    columns = 'id,date,price,bedrooms,bathrooms,sqft_living,sqft_lot,floors,waterfront,view,condition,grade,sqft_above,sqft_basement,yr_built,yr_renovated,zipcode,lat,long,sqft_living15,sqft_lot15'.split(',')\n",
    "    df = pd.DataFrame(dict(zip(columns, data)), index=[0])\n",
    "    df['yr_sold'] = df.date.map(lambda x: int(x.split('/')[-1]))\n",
    "    df.drop('date', axis=1, inplace=True)\n",
    "    for col in df.columns:\n",
    "        df[col] = pd.to_numeric(df[col])\n",
    "    df['yr_since_renovation'] = np.where(df['yr_renovated']==0.0, df['yr_sold']-df['yr_built'], df['yr_sold']-df['yr_renovated'])\n",
    "    df['yr_since_built'] = df['yr_sold'] - df['yr_built']\n",
    "    categoricals = ['floors', 'condition', 'grade', 'zipcode']\n",
    "    df = df.astype({col: 'str' for col in categoricals})\n",
    "    df = pd.get_dummies(df)\n",
    "    df['renovated'] = df.yr_renovated.map(lambda x: 1 if x>0 else 0)\n",
    "    continuous = ['price', 'bedrooms', 'bathrooms', 'sqft_living', 'sqft_lot']\n",
    "    for col in continuous:\n",
    "        df[col] = df[col].map(np.log)\n",
    "    df.replace(np.nan, 0, inplace=True)\n",
    "    data_dict = df.iloc[0].to_dict()\n",
    "\n",
    "    prediction = coef['Intercept']\n",
    "    for key, value in coef.items():\n",
    "        prediction += value * data_dict.get(key, 0)\n",
    "    prediction = np.exp(prediction)\n",
    "    return prediction"
   ]
  },
  {
   "cell_type": "code",
   "execution_count": 5,
   "metadata": {},
   "outputs": [
    {
     "data": {
      "text/plain": [
       "239026.23346531886"
      ]
     },
     "execution_count": 5,
     "metadata": {},
     "output_type": "execute_result"
    }
   ],
   "source": [
    "data = '7129300520,10/13/2014,221900.0,3,1.0,1180,5650,1.0,,0.0,3,7,1180,0.0,1955,0.0,98178,47.5112,-122.257,1340,5650'\n",
    "predict(data)"
   ]
  },
  {
   "cell_type": "markdown",
   "metadata": {},
   "source": [
    "data will come in the following format:\n",
    "\n",
    "id,date,price,bedrooms,bathrooms,sqft_living,sqft_lot,floors,waterfront,view,condition,grade,sqft_above,sqft_basement,yr_built,yr_renovated,zipcode,lat,long,sqft_living15,sqft_lot15\n",
    "7129300520,10/13/2014,221900.0,3,1.0,1180,5650,1.0,,0.0,3,7,1180,0.0,1955,0.0,98178,47.5112,-122.257,1340,5650"
   ]
  },
  {
   "cell_type": "code",
   "execution_count": 7,
   "metadata": {},
   "outputs": [
    {
     "name": "stdout",
     "output_type": "stream",
     "text": [
      "239026.23346531886\n",
      "575905.0612859579\n",
      "239975.87787140472\n",
      "556278.8552897956\n",
      "471694.00041375885\n"
     ]
    }
   ],
   "source": [
    "# todo: import data from kc_house_data.csv and run the prediction function\n",
    "with open('data/kc_house_data.csv') as f:\n",
    "    f.readline()\n",
    "    for i in range(5):\n",
    "        print(predict(f.readline()))"
   ]
  },
  {
   "cell_type": "markdown",
   "metadata": {},
   "source": [
    "# Coefficient Analysis"
   ]
  },
  {
   "cell_type": "code",
   "execution_count": 8,
   "metadata": {},
   "outputs": [
    {
     "data": {
      "text/plain": [
       "{'Intercept': -86.96192670503272,\n",
       " 'bedrooms': -0.057155141850407175,\n",
       " 'bathrooms': 0.062049951410309764,\n",
       " 'sqft_living': 0.4834287268804242,\n",
       " 'sqft_lot': 0.06665523673039399,\n",
       " 'waterfront': 0.6029579655205117,\n",
       " 'sqft_basement': -5.318890782739171e-05,\n",
       " 'lat': 0.647575198704021,\n",
       " 'long': -0.5281545373156602,\n",
       " 'yr_since_built': 0.0004074831112883181,\n",
       " 'renovated': 0.062242978234706765,\n",
       " 'floors_15': 0.015162167725278057,\n",
       " 'floors_30': -0.06364755868433236,\n",
       " 'condition_2': 0.18932432113189712,\n",
       " 'condition_3': 0.3134916654304245,\n",
       " 'condition_4': 0.3483735022840655,\n",
       " 'condition_5': 0.3988017450421917,\n",
       " 'grade_11': 0.1344705027303335,\n",
       " 'grade_12': 0.17766664807078092,\n",
       " 'grade_4': -0.4157584764311476,\n",
       " 'grade_5': -0.4607961421238744,\n",
       " 'grade_6': -0.4110665063315864,\n",
       " 'grade_7': -0.3327349771172694,\n",
       " 'grade_8': -0.22093200342053887,\n",
       " 'grade_9': -0.08214638517531614,\n",
       " 'zipcode_98004': 0.9510595844225008,\n",
       " 'zipcode_98005': 0.5853394662050718,\n",
       " 'zipcode_98006': 0.5712839348356973,\n",
       " 'zipcode_98007': 0.5174459115862566,\n",
       " 'zipcode_98008': 0.5417596879235741,\n",
       " 'zipcode_98010': 0.3594300463513315,\n",
       " 'zipcode_98011': 0.1951517489157102,\n",
       " 'zipcode_98014': 0.2422069647404074,\n",
       " 'zipcode_98019': 0.19714226038675095,\n",
       " 'zipcode_98022': 0.2616807397751881,\n",
       " 'zipcode_98023': -0.07905416275531918,\n",
       " 'zipcode_98024': 0.42225006228484463,\n",
       " 'zipcode_98027': 0.4925572702262705,\n",
       " 'zipcode_98028': 0.1552313839176842,\n",
       " 'zipcode_98029': 0.5802446063601775,\n",
       " 'zipcode_98030': 0.05489288357127023,\n",
       " 'zipcode_98031': 0.04852697746833673,\n",
       " 'zipcode_98032': -0.08732003811473965,\n",
       " 'zipcode_98033': 0.5870389364538796,\n",
       " 'zipcode_98034': 0.30989157948878754,\n",
       " 'zipcode_98038': 0.24529843752652894,\n",
       " 'zipcode_98039': 1.064516215682763,\n",
       " 'zipcode_98040': 0.7648070033582152,\n",
       " 'zipcode_98042': 0.10640947110204407,\n",
       " 'zipcode_98045': 0.4608787668745478,\n",
       " 'zipcode_98052': 0.4725776520433055,\n",
       " 'zipcode_98053': 0.4677889102903927,\n",
       " 'zipcode_98055': 0.09377941116032346,\n",
       " 'zipcode_98056': 0.24175658375526074,\n",
       " 'zipcode_98058': 0.1278408244565482,\n",
       " 'zipcode_98059': 0.29122718251154,\n",
       " 'zipcode_98065': 0.5157968384837106,\n",
       " 'zipcode_98070': 0.11327645911008173,\n",
       " 'zipcode_98072': 0.2509823580730228,\n",
       " 'zipcode_98074': 0.4578314935439171,\n",
       " 'zipcode_98075': 0.5316121879602309,\n",
       " 'zipcode_98077': 0.23404513993847295,\n",
       " 'zipcode_98092': 0.07450936193020463,\n",
       " 'zipcode_98102': 0.777468431486353,\n",
       " 'zipcode_98103': 0.5880235876740603,\n",
       " 'zipcode_98105': 0.7164814135414586,\n",
       " 'zipcode_98106': 0.165700556453239,\n",
       " 'zipcode_98107': 0.6035526479075799,\n",
       " 'zipcode_98108': 0.20764065190351036,\n",
       " 'zipcode_98109': 0.7621475233215642,\n",
       " 'zipcode_98112': 0.8116793391952004,\n",
       " 'zipcode_98115': 0.5836195852571343,\n",
       " 'zipcode_98116': 0.5791372036008244,\n",
       " 'zipcode_98117': 0.527450302136842,\n",
       " 'zipcode_98118': 0.34759209617729536,\n",
       " 'zipcode_98119': 0.7399278693487994,\n",
       " 'zipcode_98122': 0.6258591721798499,\n",
       " 'zipcode_98125': 0.2963043597819377,\n",
       " 'zipcode_98126': 0.3750844648743599,\n",
       " 'zipcode_98133': 0.15847964306937135,\n",
       " 'zipcode_98136': 0.5162318215159889,\n",
       " 'zipcode_98144': 0.516302774874883,\n",
       " 'zipcode_98146': 0.12323227514059028,\n",
       " 'zipcode_98155': 0.11909302830665848,\n",
       " 'zipcode_98166': 0.19965495176934375,\n",
       " 'zipcode_98168': -0.07348675207584264,\n",
       " 'zipcode_98177': 0.2789286220763365,\n",
       " 'zipcode_98178': 0.07130064533950298,\n",
       " 'zipcode_98199': 0.5975793406590015}"
      ]
     },
     "execution_count": 8,
     "metadata": {},
     "output_type": "execute_result"
    }
   ],
   "source": [
    "coef"
   ]
  },
  {
   "cell_type": "markdown",
   "metadata": {},
   "source": [
    "bedrooms: -0.057155141850407175\n",
    "- each bedroom decreases the sale price of a house by 5%\n",
    "\n",
    "bathrooms: 0.062049951410309764\n",
    "- each bathroom increases the sale price of a house by 6%\n",
    "\n",
    "sqft_living: 0.4834287268804242\n",
    "- a 1% change in square footage living area increases the sale price of a house by .48%\n",
    "\n",
    "sqft_lot: 0.06665523673039399\n",
    "- a 1% change in square footage lot area increases the sale price of a house by .07%\n",
    "\n",
    "waterfront: 0.6029579655205117\n",
    "- if the house is on the waterfront, the sale price of a house increases by 60%\n",
    "\n",
    "sqft_basement: -5.318890782739171e-05\n",
    "- a 1% change in square footage basement area decreases the sale price of a house by .00005%\n",
    "\n",
    "lat: 0.647575198704021\n",
    "- if you move north, a 1 degree increase in latitude increases the sale price of a house by 65%\n",
    "\n",
    "long: -0.5281545373156602\n",
    "- if you move east, a 1 degree increase in longitude decreases the sale price of a house by 53%\n",
    "\n",
    "yr_since_built: 0.0004074831112883181\n",
    "- a 1-year increase in the age of a house increases its sale price by .04%\n",
    "\n",
    "renovated: 0.062242978234706765\n",
    "- a house that has been renovated has its sale price increased by 6%"
   ]
  },
  {
   "cell_type": "markdown",
   "metadata": {},
   "source": [
    "# Recommendations and Future Work"
   ]
  },
  {
   "cell_type": "markdown",
   "metadata": {},
   "source": [
    "Interaction features, such as bathrooms*bedrooms, could increase the accuracy of our model.\n",
    "\n",
    "Trying polynomial features could also make our model more accurate.\n",
    "\n",
    "Trial-and-error would be needed to determine which features could be changed in these ways to help our model."
   ]
  },
  {
   "cell_type": "markdown",
   "metadata": {},
   "source": [
    "# Conclusions"
   ]
  },
  {
   "cell_type": "markdown",
   "metadata": {},
   "source": [
    "Our model will be usefull in predicting sale prices of houses in King county. We can use these predictions to help our clients set the prices for their houses, and find houses that are currently underpriced."
   ]
  }
 ],
 "metadata": {
  "kernelspec": {
   "display_name": "learn-env",
   "language": "python",
   "name": "learn-env"
  },
  "language_info": {
   "codemirror_mode": {
    "name": "ipython",
    "version": 3
   },
   "file_extension": ".py",
   "mimetype": "text/x-python",
   "name": "python",
   "nbconvert_exporter": "python",
   "pygments_lexer": "ipython3",
   "version": "3.6.9"
  }
 },
 "nbformat": 4,
 "nbformat_minor": 4
}
